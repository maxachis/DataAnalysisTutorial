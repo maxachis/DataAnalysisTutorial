{
 "cells": [
  {
   "cell_type": "code",
   "execution_count": 21,
   "id": "initial_id",
   "metadata": {
    "collapsed": true,
    "ExecuteTime": {
     "end_time": "2024-09-06T13:04:54.474854Z",
     "start_time": "2024-09-06T13:04:54.472445Z"
    }
   },
   "outputs": [],
   "source": []
  },
  {
   "cell_type": "markdown",
   "source": [
    "This tutorial is meant to introduce the user to data analysis using Python, Jupyter Notebook, and Pandas.\n",
    "\n",
    "The tutorial you're looking at right now is meant for users new to the Python and Jupyter Notebook ecosystem. Other tutorials, which are less curated but more detailed, include the following:\n",
    "\n",
    "* [Python's \"The Python Tutorial\"](https://docs.python.org/3/tutorial/index.html), which describes *everything* about Python, but may be intimidating to tackle all at once.\n",
    "* [The w3 schools' Python Tutorial](https://www.w3schools.com/python/default.asp), which has less in-depth detail, but progresses more slowly and allows you to try out small code examples as you learn.\n",
    "* [Pandas' own \"10 minutes to pandas\" tutorial](https://pandas.pydata.org/docs/user_guide/10min.html).\n",
    "* [A more detailed suite of Pandas tutorials](https://pandas.pydata.org/docs/getting_started/intro_tutorials/index.html)."
   ],
   "metadata": {
    "collapsed": false
   },
   "id": "dad2b83e14a57897"
  },
  {
   "cell_type": "markdown",
   "source": [
    "# Common Terminology\n",
    "\n",
    "* **Module**: A module is a file containing Python code.\n",
    "* **Package**: In the context of Python, a package is a collection of modules and sub-packages\n",
    "* **Python Interpreter**: A computer program that executes Python code.\n",
    "* **Python Environment**: The context in which a Python program runs. The installed Python interpreter and any installed packages are available within a Python environment.\n",
    "* **Virtual Environment**: A Python environment that is isolated from the host environment (i.e., you can run Python code that only has access to a specific set of packages and modules, to prevent conflicts between packages and modules)."
   ],
   "metadata": {
    "collapsed": false
   },
   "id": "d54260eed4a98132"
  },
  {
   "cell_type": "markdown",
   "source": [
    "# Frequently Used Tools\n",
    "\n",
    "* pip is the most common package manager for Python and can be installed via https://pip.pypa.io/en/stable/installation/\n",
    "* Anaconda is a package manager for Python specifically for data analysis and can be accessed at https://www.anaconda.com/\n",
    "* Pandas is a library for data analysis and manipulation and can be accessed at https://pandas.pydata.org/\n",
    "* virtualenv is a tool to create isolated Python environments and can be accessed at https://virtualenv.pypa.io/en/latest/"
   ],
   "metadata": {
    "collapsed": false
   },
   "id": "fcf7815018665048"
  },
  {
   "cell_type": "markdown",
   "source": [
    "First, an introduction to how Jupyter Notebooks work.\n",
    "\n",
    "This tutorial is done in a Jupyter Notebook (also known as an Ipython Notebook). In contrast to typical Python code, a Jupyter notebook allows you to immediately execute code and view the results visually. This is useful for more iterative programming, or for showing your work to others.\n",
    "\n",
    "Start by executing the below code cell: "
   ],
   "metadata": {
    "collapsed": false
   },
   "id": "fb1d0a83cd15b10c"
  },
  {
   "cell_type": "code",
   "outputs": [],
   "source": [
    "x = 1"
   ],
   "metadata": {
    "collapsed": false,
    "ExecuteTime": {
     "end_time": "2024-09-06T13:01:53.223047Z",
     "start_time": "2024-09-06T13:01:53.219471Z"
    }
   },
   "id": "628b9ca44ca9dc67",
   "execution_count": 17
  },
  {
   "cell_type": "markdown",
   "source": [
    "With Jupyter notebooks, you can execute code in the cell. In some cases, as in the above, executing code successfully will produce no result outside of the announcement that it was executed. To confirm that it was executed successfully, we can run code that contains only the variable we just set above, which will display the result in an output cell just below the cell being executed."
   ],
   "metadata": {
    "collapsed": false
   },
   "id": "a289875fba652acd"
  },
  {
   "cell_type": "code",
   "outputs": [
    {
     "data": {
      "text/plain": "1"
     },
     "execution_count": 5,
     "metadata": {},
     "output_type": "execute_result"
    }
   ],
   "source": [
    "x"
   ],
   "metadata": {
    "collapsed": false,
    "ExecuteTime": {
     "end_time": "2024-09-06T12:58:04.662687Z",
     "start_time": "2024-09-06T12:58:04.657306Z"
    }
   },
   "id": "38d7e6bb94b58c25",
   "execution_count": 5
  },
  {
   "cell_type": "markdown",
   "source": [
    "Note that cells in Jupyter have a cumulative effect depending on the order they are executed. If you execute the same block of code multiple times, it will execute based on the previous state of the code. Try executing the block multiple times below to see the result.\n",
    "\n",
    "Afterwards, if you go back to the `x = 1` block, re-execute that, and then execute this block again, you will see that x has returned to its original state. "
   ],
   "metadata": {
    "collapsed": false
   },
   "id": "bcc611db21ab8a62"
  },
  {
   "cell_type": "code",
   "outputs": [
    {
     "data": {
      "text/plain": "5"
     },
     "execution_count": 23,
     "metadata": {},
     "output_type": "execute_result"
    }
   ],
   "source": [
    "x += 1\n",
    "# As before, if the last line of our code contains only a variable, that variable will be displayed in the output.\n",
    "x"
   ],
   "metadata": {
    "collapsed": false,
    "ExecuteTime": {
     "end_time": "2024-09-06T13:10:34.509800Z",
     "start_time": "2024-09-06T13:10:34.505086Z"
    }
   },
   "id": "678a0ea498bf895",
   "execution_count": 23
  },
  {
   "cell_type": "markdown",
   "source": [
    "Note that the order in which cells are executed does not always match the order they are arranged. Below is a repetition of the same `x = 1` code. If you execute this, and then rerun the above cell again, you will see it behaves just the same as the `x = 1` cell above. "
   ],
   "metadata": {
    "collapsed": false
   },
   "id": "a93a02e08ea4055d"
  },
  {
   "cell_type": "code",
   "outputs": [],
   "source": [
    "x = 1"
   ],
   "metadata": {
    "collapsed": false,
    "ExecuteTime": {
     "end_time": "2024-09-06T13:04:26.383569Z",
     "start_time": "2024-09-06T13:04:26.380104Z"
    }
   },
   "id": "25f8ef9b53c88f27",
   "execution_count": 19
  },
  {
   "cell_type": "markdown",
   "source": [
    "If code produces an error, the output cell will display the error."
   ],
   "metadata": {
    "collapsed": false
   },
   "id": "9fc815f9b91f29b1"
  },
  {
   "cell_type": "code",
   "outputs": [
    {
     "ename": "SyntaxError",
     "evalue": "invalid syntax (2707316568.py, line 2)",
     "output_type": "error",
     "traceback": [
      "\u001B[1;36m  Cell \u001B[1;32mIn[16], line 2\u001B[1;36m\u001B[0m\n\u001B[1;33m    $\u001B[0m\n\u001B[1;37m    ^\u001B[0m\n\u001B[1;31mSyntaxError\u001B[0m\u001B[1;31m:\u001B[0m invalid syntax\n"
     ]
    }
   ],
   "source": [
    "# The currency sign is an invalid character in Python. Executing this will produce a Syntax Error. (Syntax is a set of rules defining the symbols of a programming language and how they can relate to each other to produce valid code).\n",
    "$"
   ],
   "metadata": {
    "collapsed": false,
    "ExecuteTime": {
     "end_time": "2024-09-06T13:01:43.197688Z",
     "start_time": "2024-09-06T13:01:43.192025Z"
    }
   },
   "id": "33604ae13b3300b5",
   "execution_count": 16
  },
  {
   "cell_type": "markdown",
   "source": [
    "To start, we'll need to import the Pandas Library.\n",
    "\n",
    "There are several ways to install Pandas, depending on how you manage your packages. Examples include:\n",
    "`pip install pandas`\n",
    "`conda install pandas`\n",
    "Or installing it through a package manager within an IDE such as PyCharm.\n",
    "\n",
    "Below is the first code cell. Depending on the content of the code cell, executing the cell will :\n",
    "* Produce an error\n",
    "* Run successfully without displaying anything\n",
    "* Run and display the results."
   ],
   "metadata": {
    "collapsed": false
   },
   "id": "a9fd02e75532edd6"
  },
  {
   "cell_type": "code",
   "outputs": [],
   "source": [
    "# Execute the import statement\n",
    "import pandas as pd"
   ],
   "metadata": {
    "collapsed": false,
    "ExecuteTime": {
     "end_time": "2024-09-06T12:45:34.295205Z",
     "start_time": "2024-09-06T12:45:33.566901Z"
    }
   },
   "id": "c887d67476ce3cfc",
   "execution_count": 2
  },
  {
   "cell_type": "markdown",
   "source": [
    "For practice, we will be using a sample data set. We will use the `iris` dataset from the `seaborn` module (a library we will discuss later)."
   ],
   "metadata": {
    "collapsed": false
   },
   "id": "10745e63503f3d58"
  },
  {
   "cell_type": "code",
   "outputs": [
    {
     "data": {
      "text/plain": "     sepal_length  sepal_width  petal_length  petal_width    species\n0             5.1          3.5           1.4          0.2     setosa\n1             4.9          3.0           1.4          0.2     setosa\n2             4.7          3.2           1.3          0.2     setosa\n3             4.6          3.1           1.5          0.2     setosa\n4             5.0          3.6           1.4          0.2     setosa\n..            ...          ...           ...          ...        ...\n145           6.7          3.0           5.2          2.3  virginica\n146           6.3          2.5           5.0          1.9  virginica\n147           6.5          3.0           5.2          2.0  virginica\n148           6.2          3.4           5.4          2.3  virginica\n149           5.9          3.0           5.1          1.8  virginica\n\n[150 rows x 5 columns]",
      "text/html": "<div>\n<style scoped>\n    .dataframe tbody tr th:only-of-type {\n        vertical-align: middle;\n    }\n\n    .dataframe tbody tr th {\n        vertical-align: top;\n    }\n\n    .dataframe thead th {\n        text-align: right;\n    }\n</style>\n<table border=\"1\" class=\"dataframe\">\n  <thead>\n    <tr style=\"text-align: right;\">\n      <th></th>\n      <th>sepal_length</th>\n      <th>sepal_width</th>\n      <th>petal_length</th>\n      <th>petal_width</th>\n      <th>species</th>\n    </tr>\n  </thead>\n  <tbody>\n    <tr>\n      <th>0</th>\n      <td>5.1</td>\n      <td>3.5</td>\n      <td>1.4</td>\n      <td>0.2</td>\n      <td>setosa</td>\n    </tr>\n    <tr>\n      <th>1</th>\n      <td>4.9</td>\n      <td>3.0</td>\n      <td>1.4</td>\n      <td>0.2</td>\n      <td>setosa</td>\n    </tr>\n    <tr>\n      <th>2</th>\n      <td>4.7</td>\n      <td>3.2</td>\n      <td>1.3</td>\n      <td>0.2</td>\n      <td>setosa</td>\n    </tr>\n    <tr>\n      <th>3</th>\n      <td>4.6</td>\n      <td>3.1</td>\n      <td>1.5</td>\n      <td>0.2</td>\n      <td>setosa</td>\n    </tr>\n    <tr>\n      <th>4</th>\n      <td>5.0</td>\n      <td>3.6</td>\n      <td>1.4</td>\n      <td>0.2</td>\n      <td>setosa</td>\n    </tr>\n    <tr>\n      <th>...</th>\n      <td>...</td>\n      <td>...</td>\n      <td>...</td>\n      <td>...</td>\n      <td>...</td>\n    </tr>\n    <tr>\n      <th>145</th>\n      <td>6.7</td>\n      <td>3.0</td>\n      <td>5.2</td>\n      <td>2.3</td>\n      <td>virginica</td>\n    </tr>\n    <tr>\n      <th>146</th>\n      <td>6.3</td>\n      <td>2.5</td>\n      <td>5.0</td>\n      <td>1.9</td>\n      <td>virginica</td>\n    </tr>\n    <tr>\n      <th>147</th>\n      <td>6.5</td>\n      <td>3.0</td>\n      <td>5.2</td>\n      <td>2.0</td>\n      <td>virginica</td>\n    </tr>\n    <tr>\n      <th>148</th>\n      <td>6.2</td>\n      <td>3.4</td>\n      <td>5.4</td>\n      <td>2.3</td>\n      <td>virginica</td>\n    </tr>\n    <tr>\n      <th>149</th>\n      <td>5.9</td>\n      <td>3.0</td>\n      <td>5.1</td>\n      <td>1.8</td>\n      <td>virginica</td>\n    </tr>\n  </tbody>\n</table>\n<p>150 rows × 5 columns</p>\n</div>"
     },
     "execution_count": 3,
     "metadata": {},
     "output_type": "execute_result"
    }
   ],
   "source": [
    "# Run the `read_csv` command (which can take a url as a parameter) and store the data in the variable `iris`\n",
    "iris = pd.read_csv('https://raw.githubusercontent.com/mwaskom/seaborn-data/master/iris.csv')\n",
    "# Display the data\n",
    "iris"
   ],
   "metadata": {
    "collapsed": false,
    "ExecuteTime": {
     "end_time": "2024-09-06T12:50:54.409208Z",
     "start_time": "2024-09-06T12:50:54.198779Z"
    }
   },
   "id": "863d763aaa9e3d04",
   "execution_count": 3
  },
  {
   "cell_type": "markdown",
   "source": [],
   "metadata": {
    "collapsed": false
   },
   "id": "1744f506fe8b4b1c"
  },
  {
   "cell_type": "markdown",
   "source": [
    "As you can see, displaying the data produces a tabular view showing all the columns and rows in a paginated view. The data is stored as a `DataFrame`, an object specific to `pandas`.\n",
    "\n",
    "To view the first few rows of a cell, we can use the `.head()` method. A method is a command that is called from an object (as opposed to a function, which is called without reference to an object. By calling `.head()` on the `iris` variable, we're indicating we want to get the results of the `.head()` function for the iris DataFrame. If we had another DataFrame and called `.head()` on that, we'd get the results for that DataFrame instead."
   ],
   "metadata": {
    "collapsed": false
   },
   "id": "f0aea1e17667ce53"
  },
  {
   "cell_type": "code",
   "outputs": [
    {
     "data": {
      "text/plain": "   sepal_length  sepal_width  petal_length  petal_width species\n0           5.1          3.5           1.4          0.2  setosa\n1           4.9          3.0           1.4          0.2  setosa\n2           4.7          3.2           1.3          0.2  setosa\n3           4.6          3.1           1.5          0.2  setosa\n4           5.0          3.6           1.4          0.2  setosa",
      "text/html": "<div>\n<style scoped>\n    .dataframe tbody tr th:only-of-type {\n        vertical-align: middle;\n    }\n\n    .dataframe tbody tr th {\n        vertical-align: top;\n    }\n\n    .dataframe thead th {\n        text-align: right;\n    }\n</style>\n<table border=\"1\" class=\"dataframe\">\n  <thead>\n    <tr style=\"text-align: right;\">\n      <th></th>\n      <th>sepal_length</th>\n      <th>sepal_width</th>\n      <th>petal_length</th>\n      <th>petal_width</th>\n      <th>species</th>\n    </tr>\n  </thead>\n  <tbody>\n    <tr>\n      <th>0</th>\n      <td>5.1</td>\n      <td>3.5</td>\n      <td>1.4</td>\n      <td>0.2</td>\n      <td>setosa</td>\n    </tr>\n    <tr>\n      <th>1</th>\n      <td>4.9</td>\n      <td>3.0</td>\n      <td>1.4</td>\n      <td>0.2</td>\n      <td>setosa</td>\n    </tr>\n    <tr>\n      <th>2</th>\n      <td>4.7</td>\n      <td>3.2</td>\n      <td>1.3</td>\n      <td>0.2</td>\n      <td>setosa</td>\n    </tr>\n    <tr>\n      <th>3</th>\n      <td>4.6</td>\n      <td>3.1</td>\n      <td>1.5</td>\n      <td>0.2</td>\n      <td>setosa</td>\n    </tr>\n    <tr>\n      <th>4</th>\n      <td>5.0</td>\n      <td>3.6</td>\n      <td>1.4</td>\n      <td>0.2</td>\n      <td>setosa</td>\n    </tr>\n  </tbody>\n</table>\n</div>"
     },
     "execution_count": 27,
     "metadata": {},
     "output_type": "execute_result"
    }
   ],
   "source": [
    "iris.head()"
   ],
   "metadata": {
    "collapsed": false,
    "ExecuteTime": {
     "end_time": "2024-09-06T13:25:45.928219Z",
     "start_time": "2024-09-06T13:25:45.920005Z"
    }
   },
   "id": "62ef2d2a3e459ae",
   "execution_count": 27
  },
  {
   "cell_type": "markdown",
   "source": [
    "Documentation on every Pandas method, including `.head()`, can be found at [the pandas documentation website](https://pandas.pydata.org/docs). Documentation for the head method can be found [here](https://pandas.pydata.org/docs/reference/api/pandas.DataFrame.head.html#pandas.DataFrame.head).\n",
    "\n",
    "If you look at the documentation, you may notice the `n=5` section. This indicates that head takes a single parameter, `n`, which defaults to 5. However, we can set it to different values, as with below:"
   ],
   "metadata": {
    "collapsed": false
   },
   "id": "c8c6a8dc3830e59a"
  },
  {
   "cell_type": "markdown",
   "source": [
    "iris.head(n=3)"
   ],
   "metadata": {
    "collapsed": false
   },
   "id": "c732e7a7e881fb64"
  },
  {
   "cell_type": "markdown",
   "source": [
    "Note that in Python, arguments can either be provided positionally, based on how the arguments were declared in the definition of the function (this is known as `args`), or provided by specifying the keyword for the parameter, as done above (this is known as `keyword args` or `kwargs`). While positional arguments are often simpler to write and easier to use if you have only a small number of arguments, they can get confusing if you have a large number of arguments for a function or method, and using keyword arguments is preferred in such cases.\n",
    "\n",
    "Note that there is a similar method for finding the last rows of a DataFrame, `.tail()`"
   ],
   "metadata": {
    "collapsed": false
   },
   "id": "27dd9978445c7bbe"
  },
  {
   "cell_type": "code",
   "outputs": [
    {
     "data": {
      "text/plain": "     sepal_length  sepal_width  petal_length  petal_width    species\n148           6.2          3.4           5.4          2.3  virginica\n149           5.9          3.0           5.1          1.8  virginica",
      "text/html": "<div>\n<style scoped>\n    .dataframe tbody tr th:only-of-type {\n        vertical-align: middle;\n    }\n\n    .dataframe tbody tr th {\n        vertical-align: top;\n    }\n\n    .dataframe thead th {\n        text-align: right;\n    }\n</style>\n<table border=\"1\" class=\"dataframe\">\n  <thead>\n    <tr style=\"text-align: right;\">\n      <th></th>\n      <th>sepal_length</th>\n      <th>sepal_width</th>\n      <th>petal_length</th>\n      <th>petal_width</th>\n      <th>species</th>\n    </tr>\n  </thead>\n  <tbody>\n    <tr>\n      <th>148</th>\n      <td>6.2</td>\n      <td>3.4</td>\n      <td>5.4</td>\n      <td>2.3</td>\n      <td>virginica</td>\n    </tr>\n    <tr>\n      <th>149</th>\n      <td>5.9</td>\n      <td>3.0</td>\n      <td>5.1</td>\n      <td>1.8</td>\n      <td>virginica</td>\n    </tr>\n  </tbody>\n</table>\n</div>"
     },
     "execution_count": 28,
     "metadata": {},
     "output_type": "execute_result"
    }
   ],
   "source": [
    "iris.tail(n=2)"
   ],
   "metadata": {
    "collapsed": false,
    "ExecuteTime": {
     "end_time": "2024-09-06T13:27:42.870966Z",
     "start_time": "2024-09-06T13:27:42.861564Z"
    }
   },
   "id": "9bb56c2945422e23",
   "execution_count": 28
  },
  {
   "cell_type": "markdown",
   "source": [
    "Note the number in the far left of the displayed DataFrame. This is known as the `index`. To see more details about the index of a DataFrame, we can use the [`.index()`](https://pandas.pydata.org/docs/reference/api/pandas.DataFrame.index.html#pandas.DataFrame.index) method:"
   ],
   "metadata": {
    "collapsed": false
   },
   "id": "c79c8a16a59b2fb8"
  },
  {
   "cell_type": "code",
   "outputs": [
    {
     "data": {
      "text/plain": "RangeIndex(start=0, stop=150, step=1)"
     },
     "execution_count": 30,
     "metadata": {},
     "output_type": "execute_result"
    }
   ],
   "source": [
    "iris.index"
   ],
   "metadata": {
    "collapsed": false,
    "ExecuteTime": {
     "end_time": "2024-09-06T13:31:19.243696Z",
     "start_time": "2024-09-06T13:31:19.239240Z"
    }
   },
   "id": "e132a2d8378665ed",
   "execution_count": 30
  },
  {
   "cell_type": "markdown",
   "source": [
    "This returns a RangeIndex object, an object expressing properties of the given index -- in this case, where it starts, where it stops, and by how much it increments every step (in this case, 1).\n",
    "\n",
    "Similarly, if we want to know about all the columns available, we can use the [`.columns()`](https://pandas.pydata.org/docs/reference/api/pandas.DataFrame.columns.html#pandas.DataFrame.columns) method."
   ],
   "metadata": {
    "collapsed": false
   },
   "id": "1e96836fab15cf68"
  },
  {
   "cell_type": "code",
   "outputs": [
    {
     "data": {
      "text/plain": "Index(['sepal_length', 'sepal_width', 'petal_length', 'petal_width',\n       'species'],\n      dtype='object')"
     },
     "execution_count": 31,
     "metadata": {},
     "output_type": "execute_result"
    }
   ],
   "source": [
    "iris.columns"
   ],
   "metadata": {
    "collapsed": false
   },
   "id": "767043271bb3b586",
   "execution_count": 31
  },
  {
   "cell_type": "markdown",
   "source": [
    "This returns an `Index` object, which is used to label rows and columns in a DataFrame. It then shows a list of the column names, and finally provides the `dtype` (or data type) of the elements in the Index, which are of type `object`. In this case, it means they are strings. \n",
    "\n",
    "We can limit the view to specific columns by referencing the DataFrame followed by bracket-notation of the list of columns we want to return. For example, if we want to get only `sepal_length`, we can do the following."
   ],
   "metadata": {
    "collapsed": false
   },
   "id": "bf2680b826b1fbda"
  },
  {
   "cell_type": "code",
   "outputs": [
    {
     "data": {
      "text/plain": "0      5.1\n1      4.9\n2      4.7\n3      4.6\n4      5.0\n      ... \n145    6.7\n146    6.3\n147    6.5\n148    6.2\n149    5.9\nName: sepal_length, Length: 150, dtype: float64"
     },
     "execution_count": 33,
     "metadata": {},
     "output_type": "execute_result"
    }
   ],
   "source": [
    "iris[\"sepal_length\"]"
   ],
   "metadata": {
    "collapsed": false,
    "ExecuteTime": {
     "end_time": "2024-09-06T14:12:36.343243Z",
     "start_time": "2024-09-06T14:12:36.336239Z"
    }
   },
   "id": "9db2740053aada72",
   "execution_count": 33
  },
  {
   "cell_type": "markdown",
   "source": [
    "If we want to get multiple columns, however, the syntax is a little different: We need to provide a comma-separated list of the columns, enclosing them within double brackets:"
   ],
   "metadata": {
    "collapsed": false
   },
   "id": "6b3daf7ad1a4e4e1"
  },
  {
   "cell_type": "code",
   "outputs": [
    {
     "data": {
      "text/plain": "     sepal_length  sepal_width\n0             5.1          3.5\n1             4.9          3.0\n2             4.7          3.2\n3             4.6          3.1\n4             5.0          3.6\n..            ...          ...\n145           6.7          3.0\n146           6.3          2.5\n147           6.5          3.0\n148           6.2          3.4\n149           5.9          3.0\n\n[150 rows x 2 columns]",
      "text/html": "<div>\n<style scoped>\n    .dataframe tbody tr th:only-of-type {\n        vertical-align: middle;\n    }\n\n    .dataframe tbody tr th {\n        vertical-align: top;\n    }\n\n    .dataframe thead th {\n        text-align: right;\n    }\n</style>\n<table border=\"1\" class=\"dataframe\">\n  <thead>\n    <tr style=\"text-align: right;\">\n      <th></th>\n      <th>sepal_length</th>\n      <th>sepal_width</th>\n    </tr>\n  </thead>\n  <tbody>\n    <tr>\n      <th>0</th>\n      <td>5.1</td>\n      <td>3.5</td>\n    </tr>\n    <tr>\n      <th>1</th>\n      <td>4.9</td>\n      <td>3.0</td>\n    </tr>\n    <tr>\n      <th>2</th>\n      <td>4.7</td>\n      <td>3.2</td>\n    </tr>\n    <tr>\n      <th>3</th>\n      <td>4.6</td>\n      <td>3.1</td>\n    </tr>\n    <tr>\n      <th>4</th>\n      <td>5.0</td>\n      <td>3.6</td>\n    </tr>\n    <tr>\n      <th>...</th>\n      <td>...</td>\n      <td>...</td>\n    </tr>\n    <tr>\n      <th>145</th>\n      <td>6.7</td>\n      <td>3.0</td>\n    </tr>\n    <tr>\n      <th>146</th>\n      <td>6.3</td>\n      <td>2.5</td>\n    </tr>\n    <tr>\n      <th>147</th>\n      <td>6.5</td>\n      <td>3.0</td>\n    </tr>\n    <tr>\n      <th>148</th>\n      <td>6.2</td>\n      <td>3.4</td>\n    </tr>\n    <tr>\n      <th>149</th>\n      <td>5.9</td>\n      <td>3.0</td>\n    </tr>\n  </tbody>\n</table>\n<p>150 rows × 2 columns</p>\n</div>"
     },
     "execution_count": 34,
     "metadata": {},
     "output_type": "execute_result"
    }
   ],
   "source": [
    "iris[[\"sepal_length\", \"sepal_width\"]]"
   ],
   "metadata": {
    "collapsed": false,
    "ExecuteTime": {
     "end_time": "2024-09-06T14:13:28.958537Z",
     "start_time": "2024-09-06T14:13:28.788888Z"
    }
   },
   "id": "660389654004e5f9",
   "execution_count": 34
  },
  {
   "cell_type": "markdown",
   "source": [
    "We can limit the view to specific rows using the `` command, which can limit what rows we see by the conditional statements we set."
   ],
   "metadata": {
    "collapsed": false
   },
   "id": "af2029f93a53b23a"
  },
  {
   "cell_type": "code",
   "outputs": [],
   "source": [],
   "metadata": {
    "collapsed": false
   },
   "id": "ba1118ba40b47e9b"
  },
  {
   "cell_type": "markdown",
   "source": [
    "# Self-Directed Learning: Documentation.\n",
    "\n",
    "Being able to read documentation for libraries you're programming with is an underrated but essential component of being a programmer. It will be much harder for you to use a library effectively if you don't know what it does and don't know how to find out what it does.\n",
    "\n",
    "Documentation comes in varying levels of quality, but the Pandas documentation, partly as a product of it being such a popular library, is well-made and thorough.\n",
    "\n",
    "Now that you've learned some of the basics, look at the [Pandas Dataframe documentation](https://pandas.pydata.org/docs/reference/frame.html) and play around more with the `iris` DataFrame. Look at methods we've discussed such as [`.head()`](https://pandas.pydata.org/docs/reference/api/pandas.DataFrame.head.html#pandas.DataFrame.head) and make sure that you understand the descriptions of the function. Look at other methods we haven't discussed, such as [`.min()`](https://pandas.pydata.org/docs/reference/api/pandas.DataFrame.min.html), and figure out how to implement them on the iris DataFrame."
   ],
   "metadata": {
    "collapsed": false
   },
   "id": "92403d9b70cf80d8"
  }
 ],
 "metadata": {
  "kernelspec": {
   "display_name": "Python 3",
   "language": "python",
   "name": "python3"
  },
  "language_info": {
   "codemirror_mode": {
    "name": "ipython",
    "version": 2
   },
   "file_extension": ".py",
   "mimetype": "text/x-python",
   "name": "python",
   "nbconvert_exporter": "python",
   "pygments_lexer": "ipython2",
   "version": "2.7.6"
  }
 },
 "nbformat": 4,
 "nbformat_minor": 5
}
